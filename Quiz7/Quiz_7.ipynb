{
  "nbformat": 4,
  "nbformat_minor": 0,
  "metadata": {
    "colab": {
      "name": "Quiz_7.ipynb",
      "version": "0.3.2",
      "provenance": [],
      "collapsed_sections": [],
      "include_colab_link": true
    },
    "kernelspec": {
      "name": "python3",
      "display_name": "Python 3"
    },
    "accelerator": "GPU"
  },
  "cells": [
    {
      "cell_type": "markdown",
      "metadata": {
        "id": "view-in-github",
        "colab_type": "text"
      },
      "source": [
        "<a href=\"https://colab.research.google.com/github/simandi2877/eva/blob/master/Quiz7/Quiz_7.ipynb\" target=\"_parent\"><img src=\"https://colab.research.google.com/assets/colab-badge.svg\" alt=\"Open In Colab\"/></a>"
      ]
    },
    {
      "cell_type": "markdown",
      "metadata": {
        "id": "aNyZv-Ec52ot",
        "colab_type": "text"
      },
      "source": [
        "# **Import Libraries and modules**"
      ]
    },
    {
      "cell_type": "code",
      "metadata": {
        "id": "3m3w1Cw49Zkt",
        "colab_type": "code",
        "outputId": "da4e7274-6319-41cd-950c-590b52ac8d99",
        "colab": {
          "base_uri": "https://localhost:8080/",
          "height": 34
        }
      },
      "source": [
        "# https://keras.io/\n",
        "!pip install -q keras\n",
        "import keras\n",
        "import datetime\n",
        "print(datetime.datetime.now())"
      ],
      "execution_count": 40,
      "outputs": [
        {
          "output_type": "stream",
          "text": [
            "2019-06-13 11:24:36.767628\n"
          ],
          "name": "stdout"
        }
      ]
    },
    {
      "cell_type": "code",
      "metadata": {
        "id": "Eso6UHE080D4",
        "colab_type": "code",
        "colab": {
          "base_uri": "https://localhost:8080/",
          "height": 34
        },
        "outputId": "02495406-bbd3-407f-88a7-c994f8ae7c69"
      },
      "source": [
        "import numpy as np\n",
        "\n",
        "from keras.models import Sequential\n",
        "from keras.layers import Dense, Dropout, Activation, Flatten, Add\n",
        "from keras.layers import Convolution2D, MaxPooling2D\n",
        "from keras.utils import np_utils\n",
        "\n",
        "from keras.datasets import mnist\n",
        "print(datetime.datetime.now())"
      ],
      "execution_count": 41,
      "outputs": [
        {
          "output_type": "stream",
          "text": [
            "2019-06-13 11:24:36.781781\n"
          ],
          "name": "stdout"
        }
      ]
    },
    {
      "cell_type": "markdown",
      "metadata": {
        "id": "zByEi95J86RD",
        "colab_type": "text"
      },
      "source": [
        "### Load pre-shuffled MNIST data into train and test sets"
      ]
    },
    {
      "cell_type": "code",
      "metadata": {
        "id": "7eRM0QWN83PV",
        "colab_type": "code",
        "colab": {
          "base_uri": "https://localhost:8080/",
          "height": 34
        },
        "outputId": "75c6d9e7-4d04-4688-9c48-916bc578b61f"
      },
      "source": [
        "(X_train, y_train), (X_test, y_test) = mnist.load_data()\n",
        "print(datetime.datetime.now())"
      ],
      "execution_count": 42,
      "outputs": [
        {
          "output_type": "stream",
          "text": [
            "2019-06-13 11:24:37.094172\n"
          ],
          "name": "stdout"
        }
      ]
    },
    {
      "cell_type": "code",
      "metadata": {
        "id": "4a4Be72j8-ZC",
        "colab_type": "code",
        "colab": {
          "base_uri": "https://localhost:8080/",
          "height": 302
        },
        "outputId": "9ce31b75-cf9d-4b93-ee92-86c1d731c5ae"
      },
      "source": [
        "print (X_train.shape)\n",
        "from matplotlib import pyplot as plt\n",
        "%matplotlib inline\n",
        "plt.imshow(X_train[0])\n",
        "print(datetime.datetime.now())"
      ],
      "execution_count": 43,
      "outputs": [
        {
          "output_type": "stream",
          "text": [
            "(60000, 28, 28)\n",
            "2019-06-13 11:24:37.126908\n"
          ],
          "name": "stdout"
        },
        {
          "output_type": "display_data",
          "data": {
            "image/png": "[encoded data removed]",
            "text/plain": [
              "<Figure size 432x288 with 1 Axes>"
            ]
          },
          "metadata": {
            "tags": []
          }
        }
      ]
    },
    {
      "cell_type": "code",
      "metadata": {
        "id": "dkmprriw9AnZ",
        "colab_type": "code",
        "colab": {
          "base_uri": "https://localhost:8080/",
          "height": 50
        },
        "outputId": "719ab50f-4b9b-40b7-f99c-dbc644e4d9ec"
      },
      "source": [
        "X_train = X_train.reshape(X_train.shape[0], 28, 28,1)\n",
        "X_test = X_test.reshape(X_test.shape[0], 28, 28,1)\n",
        "print(datetime.datetime.now())\n",
        "print(X_train.shape)"
      ],
      "execution_count": 44,
      "outputs": [
        {
          "output_type": "stream",
          "text": [
            "2019-06-13 11:24:37.278598\n",
            "(60000, 28, 28, 1)\n"
          ],
          "name": "stdout"
        }
      ]
    },
    {
      "cell_type": "code",
      "metadata": {
        "id": "X2m4YS4E9CRh",
        "colab_type": "code",
        "colab": {
          "base_uri": "https://localhost:8080/",
          "height": 34
        },
        "outputId": "497f131c-356b-46ce-d0a2-19dee909c995"
      },
      "source": [
        "X_train = X_train.astype('float32')\n",
        "X_test = X_test.astype('float32')\n",
        "X_train /= 255\n",
        "X_test /= 255\n",
        "print(datetime.datetime.now())"
      ],
      "execution_count": 45,
      "outputs": [
        {
          "output_type": "stream",
          "text": [
            "2019-06-13 11:24:37.420359\n"
          ],
          "name": "stdout"
        }
      ]
    },
    {
      "cell_type": "code",
      "metadata": {
        "id": "0Mn0vAYD9DvB",
        "colab_type": "code",
        "colab": {
          "base_uri": "https://localhost:8080/",
          "height": 34
        },
        "outputId": "2085ec14-8ae3-42e6-ffe4-fde51b862556"
      },
      "source": [
        "y_train[:10]\n",
        "print(datetime.datetime.now())"
      ],
      "execution_count": 46,
      "outputs": [
        {
          "output_type": "stream",
          "text": [
            "2019-06-13 11:24:37.429633\n"
          ],
          "name": "stdout"
        }
      ]
    },
    {
      "cell_type": "code",
      "metadata": {
        "id": "ZG8JiXR39FHC",
        "colab_type": "code",
        "colab": {
          "base_uri": "https://localhost:8080/",
          "height": 34
        },
        "outputId": "c73fa363-7934-45b8-df10-c97d8d5676de"
      },
      "source": [
        "# Convert 1-dimensional class arrays to 10-dimensional class matrices\n",
        "Y_train = np_utils.to_categorical(y_train, 10)\n",
        "Y_test = np_utils.to_categorical(y_test, 10)\n",
        "print(datetime.datetime.now())"
      ],
      "execution_count": 47,
      "outputs": [
        {
          "output_type": "stream",
          "text": [
            "2019-06-13 11:24:37.446361\n"
          ],
          "name": "stdout"
        }
      ]
    },
    {
      "cell_type": "code",
      "metadata": {
        "id": "fYlFRvKS9HMB",
        "colab_type": "code",
        "colab": {
          "base_uri": "https://localhost:8080/",
          "height": 34
        },
        "outputId": "977d32b4-4697-4a3e-c017-4988abbb283c"
      },
      "source": [
        "Y_train[:10]\n",
        "print(datetime.datetime.now())"
      ],
      "execution_count": 48,
      "outputs": [
        {
          "output_type": "stream",
          "text": [
            "2019-06-13 11:24:37.453621\n"
          ],
          "name": "stdout"
        }
      ]
    },
    {
      "cell_type": "code",
      "metadata": {
        "id": "osKqT73Q9JJB",
        "colab_type": "code",
        "colab": {
          "base_uri": "https://localhost:8080/",
          "height": 34
        },
        "outputId": "2c5eeeb4-d604-4245-da8d-146d8ac3e083"
      },
      "source": [
        "## MAIN BLOCK\n",
        "from keras.models import Model\n",
        "from keras.layers import Input, UpSampling2D, Flatten, GlobalAveragePooling2D\n",
        "from keras.layers.convolutional import Conv2D\n",
        "from keras.layers import Activation\n",
        "from keras.layers.merge import concatenate\n",
        "\n",
        "x1 = Input(X_train[0,:,:,:].shape)\n",
        "x2 = Conv2D(32, (3, 3), activation='relu',padding='same')(x1)\n",
        "c1 = concatenate([x1,x2],axis = -1)\n",
        "x3 = Conv2D(64, (3, 3), activation='relu',padding='same')(c1)\n",
        "c2 = concatenate([x1,x2,x3],axis = -1)\n",
        "x4 = MaxPooling2D(pool_size=(2, 2), padding='same')(c2)\n",
        "x4 = UpSampling2D(size=(2, 2))(x4)\n",
        "x5 = Conv2D(32, (3, 3), activation='relu',padding='same')(x4)\n",
        "c3 = concatenate([x4,x5],axis = -1)\n",
        "x6 = Conv2D(64, (3, 3), activation='relu',padding='same')(c3)\n",
        "c4 = concatenate([x4,x5,x6],axis = -1)\n",
        "x7 = Conv2D(64, (3, 3), activation='relu',padding='same')(c4)\n",
        "x8 = MaxPooling2D(pool_size=(2, 2), padding='same')(x7)\n",
        "x8 = UpSampling2D(size=(2, 2))(x8)\n",
        "x9 = Conv2D(32, (3, 3), activation='relu',padding='same')(x8)\n",
        "c5 = concatenate([x8, x9],axis = -1)\n",
        "x10 = Conv2D(64, (3, 3), activation='relu',padding='same')(c5)\n",
        "c6 = concatenate([x8, x9, x10],axis = -1)\n",
        "x11 = Conv2D(32, (3, 3), activation='relu',padding='same')(c6)\n",
        "\n",
        "x12 = Conv2D(32, (10, 10), activation='relu',padding='same')(x11)\n",
        "x13 = Conv2D(32, (1, 1), activation='relu')(x12)\n",
        "x14 = Conv2D(10, (1, 1))(x13)\n",
        "test = GlobalAveragePooling2D()(x14)\n",
        "\n",
        "x15 = Activation(activation='softmax')(test)\n",
        "\n",
        "model = Model(x1, x15, name='enas')\n",
        "\n",
        "#model = Sequential()\n",
        "\n",
        " \n",
        "#model.add(Convolution2D(32, 3, 3, activation='relu', input_shape=(28,28,1)))\n",
        "#model.add(Convolution2D(10, 1, activation='relu'))\n",
        "#model.add(Convolution2D(10, 26))\n",
        "#model.add(Flatten())\n",
        "#model.add(Activation('softmax'))\n",
        "\n",
        "print(datetime.datetime.now())"
      ],
      "execution_count": 66,
      "outputs": [
        {
          "output_type": "stream",
          "text": [
            "2019-06-13 11:30:13.333027\n"
          ],
          "name": "stdout"
        }
      ]
    },
    {
      "cell_type": "code",
      "metadata": {
        "id": "TzdAYg1k9K7Z",
        "colab_type": "code",
        "colab": {
          "base_uri": "https://localhost:8080/",
          "height": 1109
        },
        "outputId": "c8a6bacc-5093-459d-a68d-e5f0ab6d62b9"
      },
      "source": [
        "model.summary()\n",
        "\n",
        "print(datetime.datetime.now())"
      ],
      "execution_count": 67,
      "outputs": [
        {
          "output_type": "stream",
          "text": [
            "__________________________________________________________________________________________________\n",
            "Layer (type)                    Output Shape         Param #     Connected to                     \n",
            "==================================================================================================\n",
            "input_15 (InputLayer)           (None, 28, 28, 1)    0                                            \n",
            "__________________________________________________________________________________________________\n",
            "conv2d_114 (Conv2D)             (None, 28, 28, 32)   320         input_15[0][0]                   \n",
            "__________________________________________________________________________________________________\n",
            "concatenate_60 (Concatenate)    (None, 28, 28, 33)   0           input_15[0][0]                   \n",
            "                                                                 conv2d_114[0][0]                 \n",
            "__________________________________________________________________________________________________\n",
            "conv2d_115 (Conv2D)             (None, 28, 28, 64)   19072       concatenate_60[0][0]             \n",
            "__________________________________________________________________________________________________\n",
            "concatenate_61 (Concatenate)    (None, 28, 28, 97)   0           input_15[0][0]                   \n",
            "                                                                 conv2d_114[0][0]                 \n",
            "                                                                 conv2d_115[0][0]                 \n",
            "__________________________________________________________________________________________________\n",
            "max_pooling2d_21 (MaxPooling2D) (None, 14, 14, 97)   0           concatenate_61[0][0]             \n",
            "__________________________________________________________________________________________________\n",
            "up_sampling2d_20 (UpSampling2D) (None, 28, 28, 97)   0           max_pooling2d_21[0][0]           \n",
            "__________________________________________________________________________________________________\n",
            "conv2d_116 (Conv2D)             (None, 28, 28, 32)   27968       up_sampling2d_20[0][0]           \n",
            "__________________________________________________________________________________________________\n",
            "concatenate_62 (Concatenate)    (None, 28, 28, 129)  0           up_sampling2d_20[0][0]           \n",
            "                                                                 conv2d_116[0][0]                 \n",
            "__________________________________________________________________________________________________\n",
            "conv2d_117 (Conv2D)             (None, 28, 28, 64)   74368       concatenate_62[0][0]             \n",
            "__________________________________________________________________________________________________\n",
            "concatenate_63 (Concatenate)    (None, 28, 28, 193)  0           up_sampling2d_20[0][0]           \n",
            "                                                                 conv2d_116[0][0]                 \n",
            "                                                                 conv2d_117[0][0]                 \n",
            "__________________________________________________________________________________________________\n",
            "conv2d_118 (Conv2D)             (None, 28, 28, 64)   111232      concatenate_63[0][0]             \n",
            "__________________________________________________________________________________________________\n",
            "max_pooling2d_22 (MaxPooling2D) (None, 14, 14, 64)   0           conv2d_118[0][0]                 \n",
            "__________________________________________________________________________________________________\n",
            "up_sampling2d_21 (UpSampling2D) (None, 28, 28, 64)   0           max_pooling2d_22[0][0]           \n",
            "__________________________________________________________________________________________________\n",
            "conv2d_119 (Conv2D)             (None, 28, 28, 32)   18464       up_sampling2d_21[0][0]           \n",
            "__________________________________________________________________________________________________\n",
            "concatenate_64 (Concatenate)    (None, 28, 28, 96)   0           up_sampling2d_21[0][0]           \n",
            "                                                                 conv2d_119[0][0]                 \n",
            "__________________________________________________________________________________________________\n",
            "conv2d_120 (Conv2D)             (None, 28, 28, 64)   55360       concatenate_64[0][0]             \n",
            "__________________________________________________________________________________________________\n",
            "concatenate_65 (Concatenate)    (None, 28, 28, 160)  0           up_sampling2d_21[0][0]           \n",
            "                                                                 conv2d_119[0][0]                 \n",
            "                                                                 conv2d_120[0][0]                 \n",
            "__________________________________________________________________________________________________\n",
            "conv2d_121 (Conv2D)             (None, 28, 28, 32)   46112       concatenate_65[0][0]             \n",
            "__________________________________________________________________________________________________\n",
            "conv2d_122 (Conv2D)             (None, 28, 28, 32)   102432      conv2d_121[0][0]                 \n",
            "__________________________________________________________________________________________________\n",
            "conv2d_123 (Conv2D)             (None, 28, 28, 32)   1056        conv2d_122[0][0]                 \n",
            "__________________________________________________________________________________________________\n",
            "conv2d_124 (Conv2D)             (None, 28, 28, 10)   330         conv2d_123[0][0]                 \n",
            "__________________________________________________________________________________________________\n",
            "global_average_pooling2d_1 (Glo (None, 10)           0           conv2d_124[0][0]                 \n",
            "__________________________________________________________________________________________________\n",
            "activation_10 (Activation)      (None, 10)           0           global_average_pooling2d_1[0][0] \n",
            "==================================================================================================\n",
            "Total params: 456,714\n",
            "Trainable params: 456,714\n",
            "Non-trainable params: 0\n",
            "__________________________________________________________________________________________________\n",
            "2019-06-13 11:30:18.551699\n"
          ],
          "name": "stdout"
        }
      ]
    },
    {
      "cell_type": "code",
      "metadata": {
        "id": "Zp6SuGrL9M3h",
        "colab_type": "code",
        "colab": {
          "base_uri": "https://localhost:8080/",
          "height": 34
        },
        "outputId": "3c84932c-49f2-4899-da5b-282c5163cd66"
      },
      "source": [
        "model.compile(loss='categorical_crossentropy',\n",
        "             optimizer='adam',\n",
        "             metrics=['accuracy'])\n",
        "print(datetime.datetime.now())"
      ],
      "execution_count": 68,
      "outputs": [
        {
          "output_type": "stream",
          "text": [
            "2019-06-13 11:30:24.791659\n"
          ],
          "name": "stdout"
        }
      ]
    },
    {
      "cell_type": "code",
      "metadata": {
        "id": "4xWoKhPY9Of5",
        "colab_type": "code",
        "colab": {
          "base_uri": "https://localhost:8080/",
          "height": 474
        },
        "outputId": "242dbfa3-7953-4064-c100-b85349f58786"
      },
      "source": [
        "model.fit(X_train, Y_train, batch_size=32, nb_epoch=10, verbose=1)\n",
        "print(datetime.datetime.now())"
      ],
      "execution_count": 69,
      "outputs": [
        {
          "output_type": "stream",
          "text": [
            "WARNING:tensorflow:From /usr/local/lib/python3.6/dist-packages/tensorflow/python/ops/math_ops.py:3066: to_int32 (from tensorflow.python.ops.math_ops) is deprecated and will be removed in a future version.\n",
            "Instructions for updating:\n",
            "Use tf.cast instead.\n"
          ],
          "name": "stdout"
        },
        {
          "output_type": "stream",
          "text": [
            "/usr/local/lib/python3.6/dist-packages/ipykernel_launcher.py:1: UserWarning: The `nb_epoch` argument in `fit` has been renamed `epochs`.\n",
            "  \"\"\"Entry point for launching an IPython kernel.\n"
          ],
          "name": "stderr"
        },
        {
          "output_type": "stream",
          "text": [
            "Epoch 1/10\n",
            "60000/60000 [==============================] - 47s 786us/step - loss: 0.4048 - acc: 0.8639\n",
            "Epoch 2/10\n",
            "60000/60000 [==============================] - 42s 698us/step - loss: 0.0792 - acc: 0.9759\n",
            "Epoch 3/10\n",
            "60000/60000 [==============================] - 42s 701us/step - loss: 0.0576 - acc: 0.9826\n",
            "Epoch 4/10\n",
            "60000/60000 [==============================] - 42s 699us/step - loss: 0.0487 - acc: 0.9850\n",
            "Epoch 5/10\n",
            "60000/60000 [==============================] - 42s 699us/step - loss: 0.0392 - acc: 0.9878\n",
            "Epoch 6/10\n",
            "60000/60000 [==============================] - 42s 698us/step - loss: 0.0351 - acc: 0.9888\n",
            "Epoch 7/10\n",
            "60000/60000 [==============================] - 42s 698us/step - loss: 0.0315 - acc: 0.9903\n",
            "Epoch 8/10\n",
            "60000/60000 [==============================] - 42s 698us/step - loss: 0.0275 - acc: 0.9910\n",
            "Epoch 9/10\n",
            "60000/60000 [==============================] - 42s 697us/step - loss: 0.0240 - acc: 0.9926\n",
            "Epoch 10/10\n",
            "60000/60000 [==============================] - 42s 698us/step - loss: 0.0228 - acc: 0.9926\n",
            "2019-06-13 11:37:32.003832\n"
          ],
          "name": "stdout"
        }
      ]
    },
    {
      "cell_type": "code",
      "metadata": {
        "id": "AtsH-lLk-eLb",
        "colab_type": "code",
        "colab": {
          "base_uri": "https://localhost:8080/",
          "height": 34
        },
        "outputId": "06f1c12d-5ad0-42ed-a3c3-97fda375a86d"
      },
      "source": [
        "score = model.evaluate(X_test, Y_test, verbose=0)\n",
        "print(datetime.datetime.now())"
      ],
      "execution_count": 70,
      "outputs": [
        {
          "output_type": "stream",
          "text": [
            "2019-06-13 11:37:38.210478\n"
          ],
          "name": "stdout"
        }
      ]
    },
    {
      "cell_type": "code",
      "metadata": {
        "id": "mkX8JMv79q9r",
        "colab_type": "code",
        "colab": {
          "base_uri": "https://localhost:8080/",
          "height": 50
        },
        "outputId": "d656a3fe-b275-4831-edd9-fa27ba60ca41"
      },
      "source": [
        "print(score)\n",
        "print(datetime.datetime.now())"
      ],
      "execution_count": 71,
      "outputs": [
        {
          "output_type": "stream",
          "text": [
            "[0.028917581233443342, 0.9924]\n",
            "2019-06-13 11:37:40.402177\n"
          ],
          "name": "stdout"
        }
      ]
    }
  ]
}